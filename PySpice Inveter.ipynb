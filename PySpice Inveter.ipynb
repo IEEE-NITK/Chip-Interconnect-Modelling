{
 "cells": [
  {
   "cell_type": "code",
   "execution_count": 1,
   "metadata": {},
   "outputs": [
    {
     "name": "stderr",
     "output_type": "stream",
     "text": [
      "c:\\users\\sahith\\appdata\\local\\programs\\python\\python37\\lib\\site-packages\\PySpice\\Logging\\Logging.py:47: YAMLLoadWarning: calling yaml.load() without Loader=... is deprecated, as the default Loader is unsafe. Please read https://msg.pyyaml.org/load for full details.\n",
      "  logging_config = yaml.load(open(logging_config_file_name, 'r'))\n"
     ]
    }
   ],
   "source": [
    "import PySpice.Logging.Logging as Logging\n",
    "logger = Logging.setup_logging()\n",
    "from PySpice.Spice.Netlist import Circuit\n",
    "from PySpice.Unit import *"
   ]
  },
  {
   "cell_type": "code",
   "execution_count": 2,
   "metadata": {},
   "outputs": [
    {
     "name": "stdout",
     "output_type": "stream",
     "text": [
      ".title Voltage Divider\n",
      "Vinput in1 0 10V\n",
      "R1 in1 out 9kOhm\n",
      "R2 out 0 1kOhm\n",
      "\n",
      "2019-10-22 19:21:02,349 - PySpice.Spice.NgSpice.Shared.NgSpiceShared - Shared.INFO - New instance for id 0\n",
      "2019-10-22 19:21:02,460 - PySpice.Spice.NgSpice.Shared.NgSpiceShared - Shared.ERROR - Note: can't find init file.\n",
      "Node in1: 10.0 V\n",
      "Node out: 1.0 V\n"
     ]
    }
   ],
   "source": [
    "circuit = Circuit('Voltage Divider')\n",
    "\n",
    "circuit.V('input', 'in1', circuit.gnd, 10@u_V)\n",
    "circuit.R(1, 'in1', 'out', 9@u_kΩ)\n",
    "circuit.R(2, 'out', circuit.gnd, 1@u_kΩ)\n",
    "\n",
    "\n",
    "print(circuit)\n",
    "simulator = circuit.simulator(temperature=25, nominal_temperature=25)\n",
    "\n",
    "analysis = simulator.operating_point()\n",
    "for node in (analysis['in1'], analysis.out): \n",
    "    print('Node {}: {} V'.format(str(node), float(node)))\n"
   ]
  },
  {
   "cell_type": "code",
   "execution_count": 2,
   "metadata": {},
   "outputs": [],
   "source": [
    "ckt = Circuit('Inverter')"
   ]
  },
  {
   "cell_type": "code",
   "execution_count": 3,
   "metadata": {},
   "outputs": [
    {
     "data": {
      "text/plain": [
       "Mosfet M2"
      ]
     },
     "execution_count": 3,
     "metadata": {},
     "output_type": "execute_result"
    }
   ],
   "source": [
    "ckt.V(4,'vdd1', ckt.gnd, 5@u_V)\n",
    "#ckt.MOSFET('Vdd1','in1','node',(ckt.gnd,'NMOS'),0.6@u_um,4.5@u_um\n",
    "ckt.V(3,'in1', ckt.gnd, 0.0@u_V)\n",
    "ckt.M(1,'out','in1','Vdd1',ckt.gnd,model = 'pmos',w = 25e-5, l = 3.5e-7)\n",
    "ckt.M(2,'out','in1',ckt.gnd,ckt.gnd,model = 'nmos',w = 15e-5, l = 3.5e-7)           "
   ]
  },
  {
   "cell_type": "code",
   "execution_count": 4,
   "metadata": {},
   "outputs": [
    {
     "name": "stdout",
     "output_type": "stream",
     "text": [
      ".title Inverter\r\n",
      "V4 vdd1 0 5V\r\n",
      "V3 in1 0 0.0V\r\n",
      "M1 out in1 Vdd1 0 pmos l=3.5e-07 w=0.00025\r\n",
      "M2 out in1 0 0 nmos l=3.5e-07 w=0.00015\r\n",
      "\n"
     ]
    }
   ],
   "source": [
    "print(ckt)"
   ]
  },
  {
   "cell_type": "code",
   "execution_count": 6,
   "metadata": {},
   "outputs": [
    {
     "name": "stdout",
     "output_type": "stream",
     "text": [
      "Node in1: 0.0 V\n",
      "Node out: 0.0 V\n",
      "Node vdd1: 5.0 V\n"
     ]
    }
   ],
   "source": [
    "simulator = ckt.simulator(temperature=25, nominal_temperature=25)\n",
    "\n",
    "analysis = simulator.operating_point()\n",
    "for node in (analysis['in1'], analysis['Out'], analysis['vdd1']): \n",
    "    print('Node {}: {} V'.format(str(node), float(node)))"
   ]
  }
 ],
 "metadata": {
  "kernelspec": {
   "display_name": "Python 3",
   "language": "python",
   "name": "python3"
  },
  "language_info": {
   "codemirror_mode": {
    "name": "ipython",
    "version": 3
   },
   "file_extension": ".py",
   "mimetype": "text/x-python",
   "name": "python",
   "nbconvert_exporter": "python",
   "pygments_lexer": "ipython3",
   "version": "3.7.1"
  }
 },
 "nbformat": 4,
 "nbformat_minor": 2
}
