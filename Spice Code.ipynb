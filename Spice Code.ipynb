{
 "cells": [
  {
   "cell_type": "code",
   "execution_count": 4,
   "metadata": {},
   "outputs": [],
   "source": [
    "import PySpice.Logging.Logging as Logging\n",
    "logger = Logging.setup_logging()\n",
    "from PySpice.Spice.Netlist import Circuit\n",
    "from PySpice.Unit import *"
   ]
  },
  {
   "cell_type": "code",
   "execution_count": 5,
   "metadata": {},
   "outputs": [
    {
     "name": "stdout",
     "output_type": "stream",
     "text": [
      "Plots: ['const']\n",
      "{'Total elapsed time (seconds)': 17.698, 'elapsed time since last call seconds)': 17.671, 'Total DRAM available': '8101.223 MB.', 'DRAM currently available': '2338.480 MB.', 'Total ngspice program size': '  82.102 MB.'}\n",
      "\n",
      "{'planck': variable: planck no_type, 'boltz': variable: boltz no_type, 'echarge': variable: echarge no_type, 'kelvin': variable: kelvin no_type, 'i': variable: i no_type, 'c': variable: c no_type, 'e': variable: e no_type, 'pi': variable: pi no_type, 'FALSE': variable: FALSE no_type, 'no': variable: no no_type, 'TRUE': variable: TRUE no_type, 'yes': variable: yes no_type}\n"
     ]
    }
   ],
   "source": [
    "import PySpice.Logging.Logging as Logging\n",
    "logger = Logging.setup_logging()\n",
    "\n",
    "\n",
    "from PySpice.Spice.NgSpice.Shared import NgSpiceShared\n",
    "from matplotlib import pyplot as plt\n",
    "\n",
    "ngspice = NgSpiceShared.new_instance()\n",
    "\n",
    "\n",
    "circuit = r'''\n",
    ".title Inverter_two\n",
    "\n",
    ".SUBCKT Inverter__inv in out\n",
    "** GLOBAL gnd\n",
    "** GLOBAL vdd\n",
    "Mnmos@0 out in gnd gnd NMOS L=0.6U W=4.5U\n",
    "Mpmos@0 vdd in out vdd PMOS L=0.6U W=7.5U\n",
    ".ENDS Inverter__inv\n",
    "\n",
    ".global gnd vdd\n",
    "\n",
    "*** TOP LEVEL CELL: Ckt1{sch}\n",
    "Ccap@0 gnd net@0 0.102p\n",
    "Ccap@1 gnd net@2 0.102p\n",
    "Lind@0 net@17 net@0 58.182p\n",
    "Rres@0 net@2 net@17 2.812\n",
    "Xinv@0 in net@0 Inverter__inv\n",
    "Xinv@1 net@2 out Inverter__inv\n",
    "\n",
    "* Spice Code nodes in cell cell 'Ckt1{sch}'\n",
    "vdd vdd 0 DC 5\n",
    "vin in 0 DC 5 PULSE ( 0 5 0 0.1n 0.1n 1n 2n )\n",
    "*.measure tran tf trig v(out) val=4.5 fall=1 targ v(out) val=0.5 fall=1\n",
    "*.measure tran tr trig v(out) val=0.5 rise=1 targ v(out) val=4.5 rise=1\n",
    "*.measure tran td1 trig v(in) val=2.5 rise=1 targ v(out) val=2.5 rise=1\n",
    ".tran 0 25n\n",
    ".include C:\\Users\\Sahith\\Desktop\\Imp_Documents\\AMI_C5_models.txt\n",
    "\n",
    "\n",
    ".control\n",
    "set filetype=ascii\n",
    "run\n",
    ".plot tran v(in),v(out)\n",
    "\n",
    "wrdata voltage_out v(out)\n",
    ".endc\n",
    "\n",
    ".end\n",
    "\n",
    "'''\n",
    "\n",
    "ngspice.load_circuit(circuit)\n",
    "\n",
    "#print(ngspice.show('Ccap@1'))\n",
    "#print(ngspice.showmod('Ccap@1'))\n",
    "\n",
    "ngspice.run()\n",
    "print('Plots:', ngspice.plot_names)\n",
    "\n",
    "print(ngspice.ressource_usage())\n",
    "print(ngspice.status())\n",
    "\n",
    "plot = ngspice.plot(simulation=None, plot_name=ngspice.last_plot)\n",
    "print(plot)\n",
    "\n",
    "# ngspice.quit()\n"
   ]
  },
  {
   "cell_type": "code",
   "execution_count": null,
   "metadata": {},
   "outputs": [],
   "source": []
  }
 ],
 "metadata": {
  "kernelspec": {
   "display_name": "Python 3",
   "language": "python",
   "name": "python3"
  },
  "language_info": {
   "codemirror_mode": {
    "name": "ipython",
    "version": 3
   },
   "file_extension": ".py",
   "mimetype": "text/x-python",
   "name": "python",
   "nbconvert_exporter": "python",
   "pygments_lexer": "ipython3",
   "version": "3.7.4"
  }
 },
 "nbformat": 4,
 "nbformat_minor": 2
}
